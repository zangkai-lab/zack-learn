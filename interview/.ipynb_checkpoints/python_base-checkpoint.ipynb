{
 "cells": [
  {
   "cell_type": "code",
   "execution_count": 1,
   "id": "2cd4a777-5b5b-435f-abe3-c6f94117742d",
   "metadata": {},
   "outputs": [
    {
     "name": "stdout",
     "output_type": "stream",
     "text": [
      "[]\n"
     ]
    }
   ],
   "source": [
    "a = list()\n",
    "a.append('a')\n",
    "a.pop()\n",
    "print(a)"
   ]
  },
  {
   "cell_type": "code",
   "execution_count": 2,
   "id": "c28f025a-970f-48fb-86ca-4b04902b0e4e",
   "metadata": {},
   "outputs": [
    {
     "name": "stdout",
     "output_type": "stream",
     "text": [
      "['abcdef']\n"
     ]
    }
   ],
   "source": [
    "combinations = list()\n",
    "combination = ['a','b','c','d','e','f']\n",
    "combinations.append(\"\".join(combination))\n",
    "print(combinations)"
   ]
  },
  {
   "cell_type": "code",
   "execution_count": 10,
   "id": "d1d4085e-266e-4868-b58e-b050f87d5194",
   "metadata": {},
   "outputs": [],
   "source": [
    "class Solution:\n",
    "    def letterCombinations(self, digits: str):\n",
    "        if not digits:\n",
    "            return list()\n",
    "        \n",
    "        phoneMap = {\n",
    "            \"2\": \"abc\",\n",
    "            \"3\": \"def\",\n",
    "            \"4\": \"ghi\",\n",
    "            \"5\": \"jkl\",\n",
    "            \"6\": \"mno\",\n",
    "            \"7\": \"pqrs\",\n",
    "            \"8\": \"tuv\",\n",
    "            \"9\": \"wxyz\",\n",
    "        }\n",
    "\n",
    "        def backtrack(index: int):\n",
    "            if index == len(digits):\n",
    "                combinations.append(\"\".join(combination))\n",
    "                print(\"combinations = \" + str(combinations))\n",
    "            else:\n",
    "                digit = digits[index]\n",
    "                for letter in phoneMap[digit]:\n",
    "                    print(\"letter = \" + letter)\n",
    "                    combination.append(letter)\n",
    "                    print(\"combination = \" + str(combination))\n",
    "                    backtrack(index + 1)\n",
    "                    combination.pop()\n",
    "\n",
    "        combination = list()\n",
    "        combinations = list()\n",
    "        backtrack(0)\n",
    "        return combinations"
   ]
  },
  {
   "cell_type": "code",
   "execution_count": 11,
   "id": "45478158-f05c-4721-a15d-62d8c5ab8df2",
   "metadata": {},
   "outputs": [
    {
     "name": "stdout",
     "output_type": "stream",
     "text": [
      "letter = a\n",
      "combination = ['a']\n",
      "letter = d\n",
      "combination = ['a', 'd']\n",
      "combinations = ['ad']\n",
      "letter = e\n",
      "combination = ['a', 'e']\n",
      "combinations = ['ad', 'ae']\n",
      "letter = f\n",
      "combination = ['a', 'f']\n",
      "combinations = ['ad', 'ae', 'af']\n",
      "letter = b\n",
      "combination = ['b']\n",
      "letter = d\n",
      "combination = ['b', 'd']\n",
      "combinations = ['ad', 'ae', 'af', 'bd']\n",
      "letter = e\n",
      "combination = ['b', 'e']\n",
      "combinations = ['ad', 'ae', 'af', 'bd', 'be']\n",
      "letter = f\n",
      "combination = ['b', 'f']\n",
      "combinations = ['ad', 'ae', 'af', 'bd', 'be', 'bf']\n",
      "letter = c\n",
      "combination = ['c']\n",
      "letter = d\n",
      "combination = ['c', 'd']\n",
      "combinations = ['ad', 'ae', 'af', 'bd', 'be', 'bf', 'cd']\n",
      "letter = e\n",
      "combination = ['c', 'e']\n",
      "combinations = ['ad', 'ae', 'af', 'bd', 'be', 'bf', 'cd', 'ce']\n",
      "letter = f\n",
      "combination = ['c', 'f']\n",
      "combinations = ['ad', 'ae', 'af', 'bd', 'be', 'bf', 'cd', 'ce', 'cf']\n",
      "['ad', 'ae', 'af', 'bd', 'be', 'bf', 'cd', 'ce', 'cf']\n"
     ]
    }
   ],
   "source": [
    "mysolution = Solution()\n",
    "res = mysolution.letterCombinations(\"23\")\n",
    "print(res)"
   ]
  },
  {
   "cell_type": "code",
   "execution_count": 17,
   "id": "b8b8eb41-474d-4bb3-be11-459c0565097b",
   "metadata": {},
   "outputs": [],
   "source": [
    "class Solution:\n",
    "    def combine(self, n: int, k: int):\n",
    "        collection = list()\n",
    "        collections = list()\n",
    "        \n",
    "        def backtrack(startindex):\n",
    "            if len(collection) == k:\n",
    "                collections.append(collection)\n",
    "            else:\n",
    "                for i in range(startindex,n+1):\n",
    "                    collection.append(i)\n",
    "                    backtrack(startindex+1)\n",
    "                    collection.pop()\n",
    "        \n",
    "        backtrack(1)\n",
    "        return collections\n"
   ]
  },
  {
   "cell_type": "code",
   "execution_count": 18,
   "id": "9274dd02-c00a-4a7f-966c-e91a85c6af74",
   "metadata": {},
   "outputs": [
    {
     "name": "stdout",
     "output_type": "stream",
     "text": [
      "[[], [], [], [], [], [], [], [], [], [], [], [], [], [], [], [], [], [], [], []]\n"
     ]
    }
   ],
   "source": [
    "mysolution2 = Solution()\n",
    "res = mysolution2.combine(4,2)\n",
    "print(res)"
   ]
  },
  {
   "cell_type": "code",
   "execution_count": null,
   "id": "0d333ae7-f9f5-4501-a8f2-b2af37edc129",
   "metadata": {},
   "outputs": [],
   "source": []
  }
 ],
 "metadata": {
  "kernelspec": {
   "display_name": "zklearn",
   "language": "python",
   "name": "zklearn"
  },
  "language_info": {
   "codemirror_mode": {
    "name": "ipython",
    "version": 3
   },
   "file_extension": ".py",
   "mimetype": "text/x-python",
   "name": "python",
   "nbconvert_exporter": "python",
   "pygments_lexer": "ipython3",
   "version": "3.9.19"
  }
 },
 "nbformat": 4,
 "nbformat_minor": 5
}
