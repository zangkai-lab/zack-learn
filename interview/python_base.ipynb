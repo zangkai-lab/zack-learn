{
 "cells": [
  {
   "cell_type": "code",
   "execution_count": 30,
   "id": "de716ad9-dd39-4f73-af1d-cce53fd1f786",
   "metadata": {},
   "outputs": [
    {
     "name": "stdout",
     "output_type": "stream",
     "text": [
      "['jljladf<json-datas>{aa}</json-dat>sss', '']\n"
     ]
    }
   ],
   "source": [
    "st = \"jljladf<json-datas>{aa}</json-dat>sss\"\n",
    "\n",
    "# 定义标记\n",
    "token_start = \"<json-data>\"\n",
    "token_end = \"</json-data>\"\n",
    "start_len = len(token_start)\n",
    "end_len = len(token_end)\n",
    "\n",
    "# 用于存储提取的内容\n",
    "exter = []\n",
    "inter = []\n",
    "\n",
    "# 处理流\n",
    "i = 0\n",
    "n = len(st)\n",
    "\n",
    "while i < n:\n",
    "    # 查找开始标记\n",
    "    if st[i:i+start_len] == token_start:\n",
    "        inter.append(token_start)\n",
    "        i += start_len\n",
    "        # 查找结束标记\n",
    "        end_index = st.find(token_end, i)\n",
    "        if end_index == -1:\n",
    "            raise ValueError(\"找不到结束标记\")\n",
    "        inter.append(st[i:end_index])\n",
    "        inter.append(token_end)\n",
    "        i = end_index + end_len\n",
    "    else:\n",
    "        # 查找下一个开始标记\n",
    "        next_start_index = st.find(token_start, i)\n",
    "        if next_start_index == -1:\n",
    "            # 如果没有更多的开始标记，处理剩余部分\n",
    "            exter.append(st[i:])\n",
    "            break\n",
    "        else:\n",
    "            # 添加开始标记前的外部部分\n",
    "            exter.append(st[i:next_start_index])\n",
    "            i = next_start_index\n",
    "\n",
    "print([\"\".join(exter), \"\".join(inter)])\n"
   ]
  },
  {
   "cell_type": "code",
   "execution_count": null,
   "id": "eeaccf36-3208-42aa-83da-5ea7617eb7aa",
   "metadata": {},
   "outputs": [],
   "source": []
  }
 ],
 "metadata": {
  "kernelspec": {
   "display_name": "zklearn",
   "language": "python",
   "name": "zklearn"
  },
  "language_info": {
   "codemirror_mode": {
    "name": "ipython",
    "version": 3
   },
   "file_extension": ".py",
   "mimetype": "text/x-python",
   "name": "python",
   "nbconvert_exporter": "python",
   "pygments_lexer": "ipython3",
   "version": "3.9.19"
  }
 },
 "nbformat": 4,
 "nbformat_minor": 5
}
