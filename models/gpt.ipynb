{
 "cells": [
  {
   "cell_type": "markdown",
   "id": "92f0850d-b74f-47bf-9a47-9f30f50c594d",
   "metadata": {},
   "source": [
    "## Learn gpt and learn the basics of pytorch"
   ]
  },
  {
   "cell_type": "markdown",
   "id": "306f3d72-c870-43bb-9f20-af364708e35b",
   "metadata": {},
   "source": [
    "reference:\n",
    "+ https://pytorch.org/docs/stable/index.html\n",
    "+ https://github.com/karpathy/nanoGPT/blob/master/model.py\n",
    "+ https://www.youtube.com/watch?v=kCc8FmEb1nY\n",
    "+ ChatGPT"
   ]
  },
  {
   "cell_type": "markdown",
   "id": "1c32b5e4-ca28-4870-a654-a2bf7152b7af",
   "metadata": {},
   "source": [
    "purpose:\n",
    "+ build a simple gpt model using pytorch\n",
    "+ build a simple gpt model using simple function in pytroch\n",
    "+ understand the data flow of each module"
   ]
  },
  {
   "cell_type": "code",
   "execution_count": 1,
   "id": "8b867117-fecd-4a79-a3a2-1f312b552b43",
   "metadata": {},
   "outputs": [],
   "source": [
    "import math\n",
    "import inspect\n",
    "from dataclasses import dataclass"
   ]
  },
  {
   "cell_type": "markdown",
   "id": "5ebe603b-7b86-4fec-9f63-89930f18f2f6",
   "metadata": {},
   "source": [
    "## inspect Module\n",
    "The inspect module provides several useful functions to help you get information about live objects, such as modules, classes, methods, functions, tracebacks, frame objects, and code objects. It is primarily used for introspection, which means examining the type or properties of an object at runtime.\n",
    "\n",
    "Key functions in the inspect module include:\n",
    "\n",
    "+ inspect.getmembers(object): Return all the members of an object.\n",
    "+ inspect.signature(callable): Return a Signature object for the given callable.\n",
    "+ inspect.isfunction(object): Return True if the object is a Python function.\n",
    "+ inspect.isclass(object): Return True if the object is a class.\n",
    "+ inspect.getdoc(object): Return the documentation string for an object."
   ]
  },
  {
   "cell_type": "code",
   "execution_count": 2,
   "id": "12c6a8d0-2b05-4ec3-87de-8479f3af7c44",
   "metadata": {},
   "outputs": [
    {
     "name": "stdout",
     "output_type": "stream",
     "text": [
      "(a, b)\n",
      "This is my function.\n"
     ]
    }
   ],
   "source": [
    "import inspect\n",
    "\n",
    "def my_function(a, b):\n",
    "    \"\"\"This is my function.\"\"\"\n",
    "    return a + b\n",
    "\n",
    "# Get the signature of the function\n",
    "sig = inspect.signature(my_function)\n",
    "print(sig)  # Output: (a, b)\n",
    "\n",
    "# Get the documentation of the function\n",
    "doc = inspect.getdoc(my_function)\n",
    "print(doc)  # Output: This is my function."
   ]
  },
  {
   "cell_type": "markdown",
   "id": "f42eed18-2fd5-4862-99d6-0340d3d96430",
   "metadata": {},
   "source": [
    "## dataclasses Module\n",
    "The dataclasses module provides a decorator and functions for automatically adding special methods to user-defined classes. These methods include __init__, __repr__, __eq__, and others. The main purpose is to reduce boilerplate code when creating classes that primarily store data.\n",
    "\n",
    "A class decorated with @dataclass automatically gets:\n",
    "\n",
    "+ An '__init__' method that initializes the instance variables.\n",
    "+ A '__repr__' method that provides a string representation of the instance.\n",
    "+ An '__eq__' method that allows comparison between instances.\n",
    "+ Additional methods based on the parameters provided to the decorator."
   ]
  },
  {
   "cell_type": "code",
   "execution_count": 3,
   "id": "27ead35d-ad9a-4a32-b19f-2fda8de0512c",
   "metadata": {},
   "outputs": [
    {
     "name": "stdout",
     "output_type": "stream",
     "text": [
      "Point(x=1, y=2)\n",
      "True\n"
     ]
    }
   ],
   "source": [
    "from dataclasses import dataclass\n",
    "\n",
    "@dataclass\n",
    "class Point:\n",
    "    x: int\n",
    "    y: int\n",
    "\n",
    "# Creating an instance of Point\n",
    "p1 = Point(1, 2)\n",
    "print(p1)  # Output: Point(x=1, y=2)\n",
    "\n",
    "# Comparing instances of Point\n",
    "p2 = Point(1, 2)\n",
    "print(p1 == p2)  # Output: True"
   ]
  },
  {
   "cell_type": "markdown",
   "id": "24687239-3818-4f46-ab55-dbc413b27f2a",
   "metadata": {},
   "source": [
    "* can you give me a Example to make me understand the usage of \"__repr__\"? "
   ]
  },
  {
   "cell_type": "code",
   "execution_count": 4,
   "id": "8612eb39-30d7-414f-a5b4-1ac9d921329f",
   "metadata": {},
   "outputs": [
    {
     "name": "stdout",
     "output_type": "stream",
     "text": [
      "Person(name='Alice', age=30)\n"
     ]
    }
   ],
   "source": [
    "class Person:\n",
    "    def __init__(self, name, age):\n",
    "        self.name = name\n",
    "        self.age = age\n",
    "\n",
    "    def __repr__(self):\n",
    "        return f\"Person(name={self.name!r}, age={self.age!r})\"\n",
    "\n",
    "# Creating an instance of the Person class\n",
    "p = Person(\"Alice\", 30)\n",
    "\n",
    "# Printing the instance\n",
    "print(p)  # Output: Person(name='Alice', age=30)"
   ]
  },
  {
   "cell_type": "code",
   "execution_count": 5,
   "id": "756b5fdc-75b0-4da5-bb5d-c35096b28101",
   "metadata": {},
   "outputs": [],
   "source": [
    "import torch\n",
    "import torch.nn as nn\n",
    "from torch.nn import functional as F"
   ]
  },
  {
   "cell_type": "markdown",
   "id": "0d4214bd-0b3b-401d-995b-aada57d62b0e",
   "metadata": {},
   "source": [
    "## layerNorm"
   ]
  },
  {
   "cell_type": "code",
   "execution_count": 6,
   "id": "ab69436b-e790-4cdc-bb48-4e63345b7a51",
   "metadata": {},
   "outputs": [],
   "source": [
    "class LayerNorm(nn.Module):\n",
    "    \"\"\" LayerNorm but with an optional bias. PyTorch doesn't support simply bias=False \"\"\"\n",
    "\n",
    "    def __init__(self, ndim, bias):\n",
    "        super().__init__()\n",
    "        self.weight = nn.Parameter(torch.ones(ndim))\n",
    "        self.bias = nn.Parameter(torch.zeros(ndim)) if bias else None\n",
    "\n",
    "    def forward(self, input):\n",
    "        return F.layer_norm(input, self.weight.shape, self.weight, self.bias, 1e-5)"
   ]
  },
  {
   "cell_type": "markdown",
   "id": "16ba9282-966c-4a7a-8a59-69a878da495e",
   "metadata": {},
   "source": [
    "+ The super().__init__() call in the __init__ method of a class that inherits from another class (in this case, nn.Module) is used to initialize the parent class (nn.Module). This ensures that the parent class is properly initialized, setting up any required state or initial configurations defined in the parent class.\n",
    "\n",
    "+ In PyTorch, nn.Module is a base class for all neural network modules, and it includes important initialization steps, such as setting up the internal structures for managing the parameters of the model and handling GPU/CPU transfers. By calling super().__init__(), you make sure that the LayerNorm class properly inherits and initializes these properties and functionalities from nn.Module."
   ]
  },
  {
   "cell_type": "markdown",
   "id": "0383007b-20f6-435c-a061-c5f05a0775f5",
   "metadata": {},
   "source": [
    "+ https://pytorch.org/docs/stable/generated/torch.nn.LayerNorm.html#layernorm"
   ]
  },
  {
   "cell_type": "code",
   "execution_count": null,
   "id": "4cd2d4a9-195c-4792-aedb-da63cd298837",
   "metadata": {},
   "outputs": [],
   "source": []
  }
 ],
 "metadata": {
  "kernelspec": {
   "display_name": "zklearn",
   "language": "python",
   "name": "zklearn"
  },
  "language_info": {
   "codemirror_mode": {
    "name": "ipython",
    "version": 3
   },
   "file_extension": ".py",
   "mimetype": "text/x-python",
   "name": "python",
   "nbconvert_exporter": "python",
   "pygments_lexer": "ipython3",
   "version": "3.9.19"
  }
 },
 "nbformat": 4,
 "nbformat_minor": 5
}
